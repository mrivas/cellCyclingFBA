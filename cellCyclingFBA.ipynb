{
 "cells": [
  {
   "cell_type": "code",
   "execution_count": 1,
   "metadata": {
    "collapsed": true,
    "deletable": true,
    "editable": true
   },
   "outputs": [],
   "source": [
    "# Data based on:\n",
    "# https://doi.org/10.1016/j.ymben.2014.07.004"
   ]
  },
  {
   "cell_type": "code",
   "execution_count": 2,
   "metadata": {
    "collapsed": true,
    "deletable": true,
    "editable": true
   },
   "outputs": [],
   "source": [
    "# Libraries and global parameters\n",
    "# Dynamic block\n",
    "import numpy as np\n",
    "from scipy.integrate import odeint\n",
    "# Metabolic block\n",
    "import cobra\n",
    "import os\n",
    "from os.path import join\n",
    "data_dir=\".\"\n",
    "model=cobra.io.read_sbml_model(join(data_dir, \"iMM904.xml\"))\n",
    "# Plotting libraries\n",
    "import matplotlib.pyplot as plt"
   ]
  },
  {
   "cell_type": "code",
   "execution_count": 3,
   "metadata": {
    "collapsed": false,
    "deletable": true,
    "editable": true
   },
   "outputs": [],
   "source": [
    "# Kinetic block\n",
    "def kineticBlock(Glu,Eth):\n",
    "    # Parameters\n",
    "    vGmax, K_Glu, K_Eth = 22.5, 0.88, 6.74\n",
    "    f_Eth,f_Gly, f_Cit, f_Lac = .112, .273, .169, .137\n",
    "    v_Glu=vGmax*Glu/(K_Glu+Glu)*1/(1+Eth/K_Eth)\n",
    "    LB_Eth = v_Glu*f_Eth\n",
    "    LB_Gly = v_Glu*f_Gly\n",
    "    LB_Cit = v_Glu*f_Cit\n",
    "    LB_Lac = v_Glu*f_Lac\n",
    "    #LB_ATP_Ex = m_ATP\n",
    "    return [v_Glu,LB_Eth,LB_Gly,LB_Cit,LB_Lac]"
   ]
  },
  {
   "cell_type": "code",
   "execution_count": 4,
   "metadata": {
    "collapsed": true,
    "deletable": true,
    "editable": true
   },
   "outputs": [],
   "source": [
    "# Metabolic block\n",
    "def metabolicBlock(v_Glu,LB_Eth,LB_Gly,LB_Cit,LB_Lac):\n",
    "    model.reactions.get_by_id(\"EX_glc__D_e\").lower_bound = -v_Glu # set flux of glucose\n",
    "    model.reactions.get_by_id(\"EX_glc__D_e\").upper_bound = -v_Glu # set flux of glucose\n",
    "    solution = model.optimize()\n",
    "    u = solution.f\n",
    "    v_Eth = model.reactions.get_by_id(\"EX_etoh_e\").x\n",
    "    v_Gly = model.reactions.get_by_id(\"EX_glyc_e\").x\n",
    "    v_Cit = model.reactions.get_by_id(\"EX_cit_e\").x\n",
    "    v_Lac = model.reactions.get_by_id(\"EX_lac__D_e\").x\n",
    "    return [u, v_Eth, v_Gly, v_Cit, v_Lac]"
   ]
  },
  {
   "cell_type": "code",
   "execution_count": 5,
   "metadata": {
    "collapsed": true,
    "deletable": true,
    "editable": true
   },
   "outputs": [],
   "source": [
    "# Dynamic block\n",
    "def f(y,t,params):\n",
    "    V,VX,VGlu,VEth,VGly,VCit,VLac = y # Current values\n",
    "    F,u, v_Glu, v_Eth, v_Gly, v_Cit, v_Lac = params  # unpack parameters\n",
    "    Glu_F = 300 # Glucose concentration on feed\n",
    "    MW_Glu,MW_Eth,MW_Gly,MW_Cit,MW_Lac = [0.18,.046,.092,.192,.090]\n",
    "    derivs=[F,                  # dV/dt\n",
    "            u*VX,                # dVX/dt\n",
    "            F*Glu_F-v_Glu*MW_Glu*(VX), # dVGlu/dt\n",
    "            v_Eth*MW_Eth*(VX), # dVEth/dt\n",
    "            v_Gly*MW_Gly*(VX), # dVGly/dt\n",
    "            v_Cit*MW_Cit*(VX), # dVCit/dt\n",
    "            v_Lac*MW_Lac*(VX)] # dVLac/dt\n",
    "    return derivs\n",
    "def dynamicBlock(y,params, ti,tf):\n",
    "    time=np.linspace(ti,tf,100)\n",
    "    #F,u,v_Glu, v_Eth, v_Gly, v_Cit, v_Lac = params\n",
    "    soln = odeint(f,y,time,args=(params,))\n",
    "    V=soln[-1,0]\n",
    "    X,Glu,Eth,Gly,Cit,Lac=soln[-1,1:7]/V\n",
    "    return [V,X,Glu,Eth,Gly,Cit,Lac]"
   ]
  },
  {
   "cell_type": "code",
   "execution_count": 6,
   "metadata": {
    "collapsed": false,
    "deletable": true,
    "editable": true
   },
   "outputs": [],
   "source": [
    "# Miscelaneous functions\n",
    "# Feed flow \n",
    "def F(t):\n",
    "    V_0 =   0.5\n",
    "    X_0 =   0.5\n",
    "    Ysx =   0.469\n",
    "    ti = 0\n",
    "    SF  = 300\n",
    "    A,B,C=[0.07,0.07,0.14]\n",
    "    u_set=A+B*np.exp(-C*t)\n",
    "    integral = A*(t-ti) + B/C*(np.exp(-C*ti)-np.exp(-C*t)) \n",
    "    F= u_set/(SF*Ysx) * V_0*X_0 * np.exp(integral)\n",
    "    return F\n",
    "# Save results along the fermentation path\n",
    "u_path,V_path,X_path = [],[],[]\n",
    "Glu_path,Eth_path,Gly_path,Cit_path,Lac_path = [],[],[],[],[]\n",
    "v_Glu_path=[]\n",
    "def savePath(u,V,X,Glu,Eth,Gly,Cit,Lac,v_Glu):\n",
    "    global u_path,V_path,X_path\n",
    "    global Glu_path,Eth_path,Gly_path,Cit_path,Lac_path\n",
    "    global v_Glu_path\n",
    "    u_path += [u]\n",
    "    V_path += [V]\n",
    "    X_path += [X]\n",
    "    Glu_path += [Glu]\n",
    "    Eth_path += [Eth]\n",
    "    Gly_path += [Gly]\n",
    "    Cit_path += [Cit]\n",
    "    Lac_path += [Lac]\n",
    "    v_Glu_path += [v_Glu]\n",
    "    "
   ]
  },
  {
   "cell_type": "code",
   "execution_count": 15,
   "metadata": {
    "collapsed": false,
    "deletable": true,
    "editable": true
   },
   "outputs": [
    {
     "name": "stdout",
     "output_type": "stream",
     "text": [
      "[ 0.          0.11055276]\t0.000248756218905\t0.5\t20\t0.5\t0\n",
      "[ 1.10552764  1.2160804 ]\t0.000268046461863\t0.500284592582\t17.456425588\t0.888639819004\t1.13977438588\n",
      "[ 2.21105528  2.32160804]\t0.000287583704659\t0.500590610545\t13.7870905409\t1.45642076685\t2.74410151684\n",
      "[ 3.31658291  3.42713568]\t0.000307631717462\t0.500918456995\t9.08269308344\t2.20124229071\t4.76177254727\n",
      "[ 4.42211055  4.53266332]\t0.000328462125658\t0.50126883143\t3.72747197934\t3.07966237411\t7.01558982008\n",
      "[ 5.52763819  5.63819095]\t0.000350346788764\t0.501642734273\t0.0502896058444\t3.7853944583\t8.48414365555\n",
      "[ 6.63316583  6.74371859]\t0.000373553637715\t0.502041464793\t0.0288345593525\t3.89933996936\t8.47740539339\n",
      "[ 7.73869347  7.84924623]\t0.000398345123224\t0.502466615778\t0.0299114856684\t4.0085324342\t8.47023242479\n",
      "[ 8.84422111  8.95477387]\t0.000424978520001\t0.502920067498\t0.0310022086768\t4.12575307833\t8.46259534346\n",
      "[  9.94974874  10.06030151]\t0.000453707471529\t0.503403982656\t0.032112765718\t4.25158505674\t8.45446036975\n",
      "[ 11.05527638  11.16582915]\t0.000484784306899\t0.503920803475\t0.03324679997\t4.38668925272\t8.44578948118\n",
      "[ 12.16080402  12.27135678]\t0.000518462793288\t0.504473251589\t0.0344058542481\t4.53180196821\t8.43654050624\n",
      "[ 13.26633166  13.37688442]\t0.000555001096513\t0.505064331088\t0.0355896776301\t4.68773338019\t8.42666717757\n",
      "[ 14.3718593   14.48241206]\t0.000594664806198\t0.505697334893\t0.0367965184794\t4.85536679445\t8.41611914416\n",
      "[ 15.47738693  15.5879397 ]\t0.000637729944026\t0.506375854457\t0.0380233996647\t5.03565865596\t8.40484194474\n",
      "[ 16.58291457  16.69346734]\t0.000684485917125\t0.507103792774\t0.0392663708558\t5.2296392433\t8.39277694623\n",
      "[ 17.68844221  17.79899497]\t0.00073523840802\t0.507885380626\t0.040520736871\t5.43841396144\t8.37986125157\n",
      "[ 18.79396985  18.90452261]\t0.000790312211503\t0.508725195981\t0.0417812625811\t5.66316513488\t8.36602758221\n",
      "[ 19.89949749  20.01005025]\t0.000850054040229\t0.50962818653\t0.0430423554298\t5.90515420871\t8.35120414026\n",
      "[ 21.00502513  21.11557789]\t0.000914835327285\t0.510599695303\t0.0442982403211\t6.16572425352\t8.33531445572\n"
     ]
    }
   ],
   "source": [
    "# Initial conditions\n",
    "Glu=20\n",
    "Eth,Gly,Cit,Lac=[0,0,0,0]\n",
    "V,X=[0.5,0.5]\n",
    "\n",
    "# Running simulation\n",
    "time=np.linspace(0,22,200)\n",
    "for i in range(len(time)):\n",
    "    if i%10==0: print \"\\t\".join( map(str,[time[i:(i+2)], F(time[i]),V, Glu, X, Eth]) )\n",
    "    # Kinetic block\n",
    "    v_Glu,LB_Eth,LB_Gly,LB_Cit,LB_Lac = kineticBlock(Glu,Eth)\n",
    "    # Metabolic block\n",
    "    u,v_Eth, v_Gly, v_Cit, v_Lac = metabolicBlock(v_Glu,LB_Eth,LB_Gly,LB_Cit,LB_Lac)\n",
    "    # Dynamic block\n",
    "    if i==len(time)-1: continue \n",
    "    y = [V,X*V,Glu*V,Eth*V,Gly*V,Cit*V,Lac*V]\n",
    "    params = [F(time[i]),u,v_Glu, v_Eth, v_Gly, v_Cit, v_Lac]\n",
    "    V,X,Glu,Eth,Gly,Cit,Lac = dynamicBlock(y, params, time[i],time[i+1])\n",
    "    # Save results along the fermentaion path\n",
    "    savePath(u,V,X,Glu,Eth,Gly,Cit,Lac,v_Glu)"
   ]
  },
  {
   "cell_type": "code",
   "execution_count": 8,
   "metadata": {
    "collapsed": false,
    "deletable": true,
    "editable": true
   },
   "outputs": [
    {
     "name": "stdout",
     "output_type": "stream",
     "text": [
      "-----------------------\n",
      "D-Glucose exchange\n",
      "glc__D_e <-- \n",
      "-0.494216949324\n",
      "-----------------------\n",
      "Ethanol exchange\n",
      "etoh_e --> \n",
      "0.0\n",
      "-----------------------\n",
      "Glycerol exchange\n",
      "glyc_e --> \n",
      "0.0\n",
      "-----------------------\n",
      "Citrate exchange\n",
      "cit_e --> \n",
      "0.0\n",
      "-----------------------\n",
      "D-lactate exchange\n",
      "lac__D_e --> \n",
      "0.0\n"
     ]
    }
   ],
   "source": [
    "names=[\"EX_glc__D_e\",\"EX_etoh_e\",\"EX_glyc_e\",\"EX_cit_e\",\"EX_lac__D_e\"]\n",
    "for name in names:\n",
    "    print \"-----------------------\"\n",
    "    print model.reactions.get_by_id(name).name\n",
    "    print model.reactions.get_by_id(name).reaction\n",
    "    print model.reactions.get_by_id(name).x\n"
   ]
  },
  {
   "cell_type": "code",
   "execution_count": 9,
   "metadata": {
    "collapsed": false,
    "deletable": true,
    "editable": true
   },
   "outputs": [
    {
     "data": {
      "image/png": "[encoded data removed]",
      "text/plain": [
       "<matplotlib.figure.Figure at 0x7fc6086388d0>"
      ]
     },
     "metadata": {},
     "output_type": "display_data"
    }
   ],
   "source": [
    "plt.plot(time[0:199],Glu_path)\n",
    "plt.plot(time[0:199],X_path)\n",
    "plt.plot(time[0:199],Eth_path)\n",
    "plt.ylabel('Biomass, Glucose & Ethanol [g/L]')\n",
    "plt.xlabel('Time [h]')\n",
    "plt.show()"
   ]
  },
  {
   "cell_type": "code",
   "execution_count": null,
   "metadata": {
    "collapsed": false,
    "deletable": true,
    "editable": true
   },
   "outputs": [],
   "source": []
  },
  {
   "cell_type": "code",
   "execution_count": null,
   "metadata": {
    "collapsed": false,
    "deletable": true,
    "editable": true
   },
   "outputs": [],
   "source": []
  },
  {
   "cell_type": "code",
   "execution_count": null,
   "metadata": {
    "collapsed": false,
    "deletable": true,
    "editable": true
   },
   "outputs": [],
   "source": []
  },
  {
   "cell_type": "code",
   "execution_count": null,
   "metadata": {
    "collapsed": true,
    "deletable": true,
    "editable": true
   },
   "outputs": [],
   "source": []
  }
 ],
 "metadata": {
  "kernelspec": {
   "display_name": "Python 2",
   "language": "python",
   "name": "python2"
  },
  "language_info": {
   "codemirror_mode": {
    "name": "ipython",
    "version": 2
   },
   "file_extension": ".py",
   "mimetype": "text/x-python",
   "name": "python",
   "nbconvert_exporter": "python",
   "pygments_lexer": "ipython2",
   "version": "2.7.12"
  }
 },
 "nbformat": 4,
 "nbformat_minor": 2
}
